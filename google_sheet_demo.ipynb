{
 "cells": [
  {
   "cell_type": "code",
   "execution_count": 1,
   "metadata": {},
   "outputs": [],
   "source": [
    "\n",
    "from llama_index.readers.google import GoogleSheetsReader\n",
    "from llama_index.llms.azure_openai import AzureOpenAI\n",
    "from llama_index.embeddings.azure_openai import AzureOpenAIEmbedding\n",
    "\n",
    "from llama_index.llms.groq import Groq\n",
    "from llama_index.core import VectorStoreIndex, Settings\n",
    "import yaml\n"
   ]
  },
  {
   "cell_type": "code",
   "execution_count": 6,
   "metadata": {},
   "outputs": [],
   "source": [
    "\n",
    "\n",
    "with open(\"creds.yaml\", 'r') as f:\n",
    "    config = yaml.safe_load(f)\n",
    "    groq_key = config['groq']['key']\n",
    "    aoi_api_key = config['azure-openai']['apikey']\n",
    "    azure_endpoint = config['azure-openai']['endpoint']\n",
    "    aoi_embed_deployment = config['azure-openai']['embed-deployment']\n",
    "    aoi_embed_model = config['azure-openai']['embed-model']\n",
    "\n",
    "llm = Groq(model=\"mixtral-8x7b-32768\", api_key=groq_key)\n",
    "Settings.llm = llm\n",
    "\n",
    "embed_model = AzureOpenAIEmbedding(\n",
    "    model=aoi_embed_model,\n",
    "    deployment_name=aoi_embed_deployment,\n",
    "    api_key=aoi_api_key,\n",
    "    azure_endpoint=azure_endpoint,\n",
    "    api_version = \"2024-02-01\"\n",
    ")\n",
    "Settings.embed_model = embed_model"
   ]
  },
  {
   "cell_type": "code",
   "execution_count": 7,
   "metadata": {},
   "outputs": [],
   "source": [
    "\n",
    "list_of_sheets = [\"1gt6m5CbK1y1eCLCBToJCRRT3dyFdwLSQTxeN0syb7zw\"]\n",
    "sheets = GoogleSheetsReader()\n",
    "dataframes = sheets.load_data(list_of_sheets)"
   ]
  },
  {
   "cell_type": "code",
   "execution_count": 9,
   "metadata": {},
   "outputs": [],
   "source": [
    "index = VectorStoreIndex.from_documents(dataframes)"
   ]
  },
  {
   "cell_type": "code",
   "execution_count": 10,
   "metadata": {},
   "outputs": [],
   "source": [
    "chat = index.as_query_engine()\n"
   ]
  },
  {
   "cell_type": "code",
   "execution_count": 13,
   "metadata": {},
   "outputs": [
    {
     "data": {
      "text/plain": [
       "Response(response='The values in datacol1 that do not have D1 in datacol2 are B and D.', source_nodes=[NodeWithScore(node=TextNode(id_='e6274d0e-7954-41bb-b4f2-99200d9e9257', embedding=None, metadata={'spreadsheet_id': '1gt6m5CbK1y1eCLCBToJCRRT3dyFdwLSQTxeN0syb7zw'}, excluded_embed_metadata_keys=[], excluded_llm_metadata_keys=[], relationships={<NodeRelationship.SOURCE: '1'>: RelatedNodeInfo(node_id='1gt6m5CbK1y1eCLCBToJCRRT3dyFdwLSQTxeN0syb7zw', node_type=<ObjectType.DOCUMENT: '4'>, metadata={'spreadsheet_id': '1gt6m5CbK1y1eCLCBToJCRRT3dyFdwLSQTxeN0syb7zw'}, hash='001d367262c59b570fd6261b8a5ed7b8a770913e190e7f5c6299ff7245ccd508')}, text='Sheet1\\ndatacol1\\tdatacol2\\nA\\tD1\\nB\\tD2\\nC\\tD1\\nD\\tCX1', start_char_idx=0, end_char_idx=45, text_template='{metadata_str}\\n\\n{content}', metadata_template='{key}: {value}', metadata_seperator='\\n'), score=0.8073697323249436)], metadata={'e6274d0e-7954-41bb-b4f2-99200d9e9257': {'spreadsheet_id': '1gt6m5CbK1y1eCLCBToJCRRT3dyFdwLSQTxeN0syb7zw'}})"
      ]
     },
     "execution_count": 13,
     "metadata": {},
     "output_type": "execute_result"
    }
   ],
   "source": [
    "chat.query(\"List the datacol1 which don't have datacol2 as D1\")"
   ]
  },
  {
   "cell_type": "code",
   "execution_count": null,
   "metadata": {},
   "outputs": [],
   "source": []
  }
 ],
 "metadata": {
  "kernelspec": {
   "display_name": "dl",
   "language": "python",
   "name": "dl"
  },
  "language_info": {
   "codemirror_mode": {
    "name": "ipython",
    "version": 3
   },
   "file_extension": ".py",
   "mimetype": "text/x-python",
   "name": "python",
   "nbconvert_exporter": "python",
   "pygments_lexer": "ipython3",
   "version": "3.10.11"
  }
 },
 "nbformat": 4,
 "nbformat_minor": 2
}
